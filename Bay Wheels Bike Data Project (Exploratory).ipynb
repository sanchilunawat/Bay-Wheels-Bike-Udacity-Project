{
 "cells": [
  {
   "cell_type": "code",
   "execution_count": 3,
   "metadata": {
    "slideshow": {
     "slide_type": "skip"
    }
   },
   "outputs": [],
   "source": [
    "import pandas as pd\n",
    "import numpy as np\n",
    "import matplotlib.pyplot as plt\n",
    "%matplotlib inline\n",
    "import seaborn as sns\n",
    "import datetime as dt"
   ]
  },
  {
   "cell_type": "markdown",
   "metadata": {
    "slideshow": {
     "slide_type": "skip"
    }
   },
   "source": [
    "# Step 1: Load dataframe and combine into one for ease of use"
   ]
  },
  {
   "cell_type": "code",
   "execution_count": 3,
   "metadata": {
    "slideshow": {
     "slide_type": "skip"
    }
   },
   "outputs": [
    {
     "name": "stderr",
     "output_type": "stream",
     "text": [
      "//anaconda3/lib/python3.7/site-packages/IPython/core/interactiveshell.py:3057: DtypeWarning: Columns (13) have mixed types. Specify dtype option on import or set low_memory=False.\n",
      "  interactivity=interactivity, compiler=compiler, result=result)\n"
     ]
    }
   ],
   "source": [
    "#Import 3 datasets from GoBike Website (2020 Datasets)\n",
    "df_01 = pd.read_csv('/Users/sanchi/desktop/Udacity/Project5_GoBike/202001-baywheels-tripdata.csv')\n",
    "df_02 = pd.read_csv('/Users/sanchi/desktop/Udacity/Project5_GoBike/202002_baywheels_tripdata.csv')\n",
    "df_03 = pd.read_csv('/Users/sanchi/desktop/Udacity/Project5_GoBike/202003-baywheels-tripdata.csv')"
   ]
  },
  {
   "cell_type": "code",
   "execution_count": 4,
   "metadata": {
    "slideshow": {
     "slide_type": "skip"
    }
   },
   "outputs": [
    {
     "name": "stdout",
     "output_type": "stream",
     "text": [
      "<class 'pandas.core.frame.DataFrame'>\n",
      "RangeIndex: 295854 entries, 0 to 295853\n",
      "Data columns (total 14 columns):\n",
      "duration_sec               295854 non-null int64\n",
      "start_time                 295854 non-null object\n",
      "end_time                   295854 non-null object\n",
      "start_station_id           146286 non-null float64\n",
      "start_station_name         146866 non-null object\n",
      "start_station_latitude     295854 non-null float64\n",
      "start_station_longitude    295854 non-null float64\n",
      "end_station_id             145934 non-null float64\n",
      "end_station_name           146511 non-null object\n",
      "end_station_latitude       295854 non-null float64\n",
      "end_station_longitude      295854 non-null float64\n",
      "bike_id                    295854 non-null int64\n",
      "user_type                  295854 non-null object\n",
      "rental_access_method       185746 non-null object\n",
      "dtypes: float64(6), int64(2), object(6)\n",
      "memory usage: 31.6+ MB\n"
     ]
    }
   ],
   "source": [
    "df_01.info()"
   ]
  },
  {
   "cell_type": "code",
   "execution_count": 5,
   "metadata": {
    "slideshow": {
     "slide_type": "skip"
    }
   },
   "outputs": [
    {
     "name": "stdout",
     "output_type": "stream",
     "text": [
      "<class 'pandas.core.frame.DataFrame'>\n",
      "RangeIndex: 432354 entries, 0 to 432353\n",
      "Data columns (total 14 columns):\n",
      "duration_sec               432354 non-null int64\n",
      "start_time                 432354 non-null object\n",
      "end_time                   432354 non-null object\n",
      "start_station_id           161723 non-null float64\n",
      "start_station_name         161723 non-null object\n",
      "start_station_latitude     432354 non-null float64\n",
      "start_station_longitude    432354 non-null float64\n",
      "end_station_id             162194 non-null float64\n",
      "end_station_name           162194 non-null object\n",
      "end_station_latitude       432354 non-null float64\n",
      "end_station_longitude      432354 non-null float64\n",
      "bike_id                    432354 non-null int64\n",
      "user_type                  432354 non-null object\n",
      "rental_access_method       317843 non-null object\n",
      "dtypes: float64(6), int64(2), object(6)\n",
      "memory usage: 46.2+ MB\n"
     ]
    }
   ],
   "source": [
    "df_02.info()"
   ]
  },
  {
   "cell_type": "code",
   "execution_count": 6,
   "metadata": {
    "slideshow": {
     "slide_type": "skip"
    }
   },
   "outputs": [
    {
     "name": "stdout",
     "output_type": "stream",
     "text": [
      "<class 'pandas.core.frame.DataFrame'>\n",
      "RangeIndex: 176799 entries, 0 to 176798\n",
      "Data columns (total 14 columns):\n",
      "duration_sec               176799 non-null int64\n",
      "start_time                 176799 non-null object\n",
      "end_time                   176799 non-null object\n",
      "start_station_id           110696 non-null float64\n",
      "start_station_name         111349 non-null object\n",
      "start_station_latitude     176799 non-null float64\n",
      "start_station_longitude    176799 non-null float64\n",
      "end_station_id             111097 non-null float64\n",
      "end_station_name           111794 non-null object\n",
      "end_station_latitude       176799 non-null float64\n",
      "end_station_longitude      176799 non-null float64\n",
      "bike_id                    176799 non-null int64\n",
      "user_type                  176799 non-null object\n",
      "rental_access_method       114269 non-null object\n",
      "dtypes: float64(6), int64(2), object(6)\n",
      "memory usage: 18.9+ MB\n"
     ]
    }
   ],
   "source": [
    "df_03.info()"
   ]
  },
  {
   "cell_type": "code",
   "execution_count": 7,
   "metadata": {
    "slideshow": {
     "slide_type": "skip"
    }
   },
   "outputs": [
    {
     "name": "stdout",
     "output_type": "stream",
     "text": [
      "<class 'pandas.core.frame.DataFrame'>\n",
      "Int64Index: 905007 entries, 0 to 176798\n",
      "Data columns (total 14 columns):\n",
      "duration_sec               905007 non-null int64\n",
      "start_time                 905007 non-null object\n",
      "end_time                   905007 non-null object\n",
      "start_station_id           418705 non-null float64\n",
      "start_station_name         419938 non-null object\n",
      "start_station_latitude     905007 non-null float64\n",
      "start_station_longitude    905007 non-null float64\n",
      "end_station_id             419225 non-null float64\n",
      "end_station_name           420499 non-null object\n",
      "end_station_latitude       905007 non-null float64\n",
      "end_station_longitude      905007 non-null float64\n",
      "bike_id                    905007 non-null int64\n",
      "user_type                  905007 non-null object\n",
      "rental_access_method       617858 non-null object\n",
      "dtypes: float64(6), int64(2), object(6)\n",
      "memory usage: 103.6+ MB\n"
     ]
    }
   ],
   "source": [
    "#combine all three datasets of 2020 into one called \"df_main\"\n",
    "df_main = pd.concat([df_01,df_02,df_03])\n",
    "df_main.info()"
   ]
  },
  {
   "cell_type": "code",
   "execution_count": 8,
   "metadata": {
    "slideshow": {
     "slide_type": "skip"
    }
   },
   "outputs": [],
   "source": [
    "#save this df_main raw file as back up to computer\n",
    "df_main.to_csv('/Users/sanchi/desktop/Udacity/Project5_GoBike/2020_baywheels_tripdata_combined.csv')"
   ]
  },
  {
   "cell_type": "markdown",
   "metadata": {
    "slideshow": {
     "slide_type": "skip"
    }
   },
   "source": [
    "# Step 2: Assess & clean dataframe"
   ]
  },
  {
   "cell_type": "code",
   "execution_count": 4,
   "metadata": {
    "slideshow": {
     "slide_type": "skip"
    }
   },
   "outputs": [
    {
     "name": "stderr",
     "output_type": "stream",
     "text": [
      "//anaconda3/lib/python3.7/site-packages/IPython/core/interactiveshell.py:3057: DtypeWarning: Columns (14) have mixed types. Specify dtype option on import or set low_memory=False.\n",
      "  interactivity=interactivity, compiler=compiler, result=result)\n"
     ]
    },
    {
     "name": "stdout",
     "output_type": "stream",
     "text": [
      "<class 'pandas.core.frame.DataFrame'>\n",
      "RangeIndex: 905007 entries, 0 to 905006\n",
      "Data columns (total 15 columns):\n",
      "Unnamed: 0                 905007 non-null int64\n",
      "duration_sec               905007 non-null int64\n",
      "start_time                 905007 non-null object\n",
      "end_time                   905007 non-null object\n",
      "start_station_id           418705 non-null float64\n",
      "start_station_name         419938 non-null object\n",
      "start_station_latitude     905007 non-null float64\n",
      "start_station_longitude    905007 non-null float64\n",
      "end_station_id             419225 non-null float64\n",
      "end_station_name           420499 non-null object\n",
      "end_station_latitude       905007 non-null float64\n",
      "end_station_longitude      905007 non-null float64\n",
      "bike_id                    905007 non-null int64\n",
      "user_type                  905007 non-null object\n",
      "rental_access_method       617858 non-null object\n",
      "dtypes: float64(6), int64(3), object(6)\n",
      "memory usage: 103.6+ MB\n"
     ]
    }
   ],
   "source": [
    "bike_df = pd.read_csv('/Users/sanchi/desktop/Udacity/Project5_GoBike/2020_baywheels_tripdata_combined.csv')\n",
    "bike_df.info()"
   ]
  },
  {
   "cell_type": "code",
   "execution_count": 5,
   "metadata": {
    "slideshow": {
     "slide_type": "skip"
    }
   },
   "outputs": [
    {
     "data": {
      "text/html": [
       "<div>\n",
       "<style scoped>\n",
       "    .dataframe tbody tr th:only-of-type {\n",
       "        vertical-align: middle;\n",
       "    }\n",
       "\n",
       "    .dataframe tbody tr th {\n",
       "        vertical-align: top;\n",
       "    }\n",
       "\n",
       "    .dataframe thead th {\n",
       "        text-align: right;\n",
       "    }\n",
       "</style>\n",
       "<table border=\"1\" class=\"dataframe\">\n",
       "  <thead>\n",
       "    <tr style=\"text-align: right;\">\n",
       "      <th></th>\n",
       "      <th>Unnamed: 0</th>\n",
       "      <th>duration_sec</th>\n",
       "      <th>start_time</th>\n",
       "      <th>end_time</th>\n",
       "      <th>start_station_id</th>\n",
       "      <th>start_station_name</th>\n",
       "      <th>start_station_latitude</th>\n",
       "      <th>start_station_longitude</th>\n",
       "      <th>end_station_id</th>\n",
       "      <th>end_station_name</th>\n",
       "      <th>end_station_latitude</th>\n",
       "      <th>end_station_longitude</th>\n",
       "      <th>bike_id</th>\n",
       "      <th>user_type</th>\n",
       "      <th>rental_access_method</th>\n",
       "    </tr>\n",
       "  </thead>\n",
       "  <tbody>\n",
       "    <tr>\n",
       "      <th>0</th>\n",
       "      <td>0</td>\n",
       "      <td>83118</td>\n",
       "      <td>2020-01-31 15:23:47.7330</td>\n",
       "      <td>2020-02-01 14:29:06.2630</td>\n",
       "      <td>400.0</td>\n",
       "      <td>Buchanan St at North Point St</td>\n",
       "      <td>37.804272</td>\n",
       "      <td>-122.433537</td>\n",
       "      <td>400.0</td>\n",
       "      <td>Buchanan St at North Point St</td>\n",
       "      <td>37.804272</td>\n",
       "      <td>-122.433537</td>\n",
       "      <td>13052</td>\n",
       "      <td>Customer</td>\n",
       "      <td>NaN</td>\n",
       "    </tr>\n",
       "    <tr>\n",
       "      <th>1</th>\n",
       "      <td>1</td>\n",
       "      <td>68239</td>\n",
       "      <td>2020-01-31 15:40:31.6160</td>\n",
       "      <td>2020-02-01 10:37:51.0000</td>\n",
       "      <td>99.0</td>\n",
       "      <td>Folsom St at 15th St</td>\n",
       "      <td>37.767037</td>\n",
       "      <td>-122.415442</td>\n",
       "      <td>99.0</td>\n",
       "      <td>Folsom St at 15th St</td>\n",
       "      <td>37.767037</td>\n",
       "      <td>-122.415442</td>\n",
       "      <td>12235</td>\n",
       "      <td>Subscriber</td>\n",
       "      <td>NaN</td>\n",
       "    </tr>\n",
       "    <tr>\n",
       "      <th>2</th>\n",
       "      <td>2</td>\n",
       "      <td>55407</td>\n",
       "      <td>2020-01-31 17:48:16.6350</td>\n",
       "      <td>2020-02-01 09:11:44.3170</td>\n",
       "      <td>197.0</td>\n",
       "      <td>El Embarcadero at Grand Ave</td>\n",
       "      <td>37.808848</td>\n",
       "      <td>-122.249680</td>\n",
       "      <td>197.0</td>\n",
       "      <td>El Embarcadero at Grand Ave</td>\n",
       "      <td>37.808848</td>\n",
       "      <td>-122.249680</td>\n",
       "      <td>12822</td>\n",
       "      <td>Customer</td>\n",
       "      <td>NaN</td>\n",
       "    </tr>\n",
       "    <tr>\n",
       "      <th>3</th>\n",
       "      <td>3</td>\n",
       "      <td>54929</td>\n",
       "      <td>2020-01-31 17:53:03.4130</td>\n",
       "      <td>2020-02-01 09:08:32.6340</td>\n",
       "      <td>197.0</td>\n",
       "      <td>El Embarcadero at Grand Ave</td>\n",
       "      <td>37.808848</td>\n",
       "      <td>-122.249680</td>\n",
       "      <td>197.0</td>\n",
       "      <td>El Embarcadero at Grand Ave</td>\n",
       "      <td>37.808848</td>\n",
       "      <td>-122.249680</td>\n",
       "      <td>11705</td>\n",
       "      <td>Customer</td>\n",
       "      <td>NaN</td>\n",
       "    </tr>\n",
       "    <tr>\n",
       "      <th>4</th>\n",
       "      <td>4</td>\n",
       "      <td>55700</td>\n",
       "      <td>2020-01-31 17:12:33.4600</td>\n",
       "      <td>2020-02-01 08:40:53.6460</td>\n",
       "      <td>12.0</td>\n",
       "      <td>Pier 1/2 at The Embarcadero</td>\n",
       "      <td>37.796389</td>\n",
       "      <td>-122.394586</td>\n",
       "      <td>371.0</td>\n",
       "      <td>Lombard St at Columbus Ave</td>\n",
       "      <td>37.802746</td>\n",
       "      <td>-122.413579</td>\n",
       "      <td>3673</td>\n",
       "      <td>Customer</td>\n",
       "      <td>NaN</td>\n",
       "    </tr>\n",
       "  </tbody>\n",
       "</table>\n",
       "</div>"
      ],
      "text/plain": [
       "   Unnamed: 0  duration_sec                start_time  \\\n",
       "0           0         83118  2020-01-31 15:23:47.7330   \n",
       "1           1         68239  2020-01-31 15:40:31.6160   \n",
       "2           2         55407  2020-01-31 17:48:16.6350   \n",
       "3           3         54929  2020-01-31 17:53:03.4130   \n",
       "4           4         55700  2020-01-31 17:12:33.4600   \n",
       "\n",
       "                   end_time  start_station_id             start_station_name  \\\n",
       "0  2020-02-01 14:29:06.2630             400.0  Buchanan St at North Point St   \n",
       "1  2020-02-01 10:37:51.0000              99.0           Folsom St at 15th St   \n",
       "2  2020-02-01 09:11:44.3170             197.0    El Embarcadero at Grand Ave   \n",
       "3  2020-02-01 09:08:32.6340             197.0    El Embarcadero at Grand Ave   \n",
       "4  2020-02-01 08:40:53.6460              12.0    Pier 1/2 at The Embarcadero   \n",
       "\n",
       "   start_station_latitude  start_station_longitude  end_station_id  \\\n",
       "0               37.804272              -122.433537           400.0   \n",
       "1               37.767037              -122.415442            99.0   \n",
       "2               37.808848              -122.249680           197.0   \n",
       "3               37.808848              -122.249680           197.0   \n",
       "4               37.796389              -122.394586           371.0   \n",
       "\n",
       "                end_station_name  end_station_latitude  end_station_longitude  \\\n",
       "0  Buchanan St at North Point St             37.804272            -122.433537   \n",
       "1           Folsom St at 15th St             37.767037            -122.415442   \n",
       "2    El Embarcadero at Grand Ave             37.808848            -122.249680   \n",
       "3    El Embarcadero at Grand Ave             37.808848            -122.249680   \n",
       "4     Lombard St at Columbus Ave             37.802746            -122.413579   \n",
       "\n",
       "   bike_id   user_type rental_access_method  \n",
       "0    13052    Customer                  NaN  \n",
       "1    12235  Subscriber                  NaN  \n",
       "2    12822    Customer                  NaN  \n",
       "3    11705    Customer                  NaN  \n",
       "4     3673    Customer                  NaN  "
      ]
     },
     "execution_count": 5,
     "metadata": {},
     "output_type": "execute_result"
    }
   ],
   "source": [
    "bike_df.head()"
   ]
  },
  {
   "cell_type": "markdown",
   "metadata": {
    "slideshow": {
     "slide_type": "slide"
    }
   },
   "source": [
    "## Questions from the dataset\n",
    "* average duration time of bike rides by month\n",
    "* proportion of user types (customer vs. subscriber)\n",
    "* duration of bike rides each month\n",
    "* duration of customers vs. subscribers on bikes (did one type ride bike longer than other type?)"
   ]
  },
  {
   "cell_type": "code",
   "execution_count": 6,
   "metadata": {
    "slideshow": {
     "slide_type": "skip"
    }
   },
   "outputs": [
    {
     "data": {
      "text/html": [
       "<div>\n",
       "<style scoped>\n",
       "    .dataframe tbody tr th:only-of-type {\n",
       "        vertical-align: middle;\n",
       "    }\n",
       "\n",
       "    .dataframe tbody tr th {\n",
       "        vertical-align: top;\n",
       "    }\n",
       "\n",
       "    .dataframe thead th {\n",
       "        text-align: right;\n",
       "    }\n",
       "</style>\n",
       "<table border=\"1\" class=\"dataframe\">\n",
       "  <thead>\n",
       "    <tr style=\"text-align: right;\">\n",
       "      <th></th>\n",
       "      <th>duration_sec</th>\n",
       "      <th>start_time</th>\n",
       "      <th>end_time</th>\n",
       "      <th>start_station_id</th>\n",
       "      <th>start_station_latitude</th>\n",
       "      <th>start_station_longitude</th>\n",
       "      <th>end_station_id</th>\n",
       "      <th>end_station_latitude</th>\n",
       "      <th>end_station_longitude</th>\n",
       "      <th>user_type</th>\n",
       "    </tr>\n",
       "  </thead>\n",
       "  <tbody>\n",
       "    <tr>\n",
       "      <th>0</th>\n",
       "      <td>83118</td>\n",
       "      <td>2020-01-31 15:23:47.7330</td>\n",
       "      <td>2020-02-01 14:29:06.2630</td>\n",
       "      <td>400.0</td>\n",
       "      <td>37.804272</td>\n",
       "      <td>-122.433537</td>\n",
       "      <td>400.0</td>\n",
       "      <td>37.804272</td>\n",
       "      <td>-122.433537</td>\n",
       "      <td>Customer</td>\n",
       "    </tr>\n",
       "    <tr>\n",
       "      <th>1</th>\n",
       "      <td>68239</td>\n",
       "      <td>2020-01-31 15:40:31.6160</td>\n",
       "      <td>2020-02-01 10:37:51.0000</td>\n",
       "      <td>99.0</td>\n",
       "      <td>37.767037</td>\n",
       "      <td>-122.415442</td>\n",
       "      <td>99.0</td>\n",
       "      <td>37.767037</td>\n",
       "      <td>-122.415442</td>\n",
       "      <td>Subscriber</td>\n",
       "    </tr>\n",
       "    <tr>\n",
       "      <th>2</th>\n",
       "      <td>55407</td>\n",
       "      <td>2020-01-31 17:48:16.6350</td>\n",
       "      <td>2020-02-01 09:11:44.3170</td>\n",
       "      <td>197.0</td>\n",
       "      <td>37.808848</td>\n",
       "      <td>-122.249680</td>\n",
       "      <td>197.0</td>\n",
       "      <td>37.808848</td>\n",
       "      <td>-122.249680</td>\n",
       "      <td>Customer</td>\n",
       "    </tr>\n",
       "    <tr>\n",
       "      <th>3</th>\n",
       "      <td>54929</td>\n",
       "      <td>2020-01-31 17:53:03.4130</td>\n",
       "      <td>2020-02-01 09:08:32.6340</td>\n",
       "      <td>197.0</td>\n",
       "      <td>37.808848</td>\n",
       "      <td>-122.249680</td>\n",
       "      <td>197.0</td>\n",
       "      <td>37.808848</td>\n",
       "      <td>-122.249680</td>\n",
       "      <td>Customer</td>\n",
       "    </tr>\n",
       "    <tr>\n",
       "      <th>4</th>\n",
       "      <td>55700</td>\n",
       "      <td>2020-01-31 17:12:33.4600</td>\n",
       "      <td>2020-02-01 08:40:53.6460</td>\n",
       "      <td>12.0</td>\n",
       "      <td>37.796389</td>\n",
       "      <td>-122.394586</td>\n",
       "      <td>371.0</td>\n",
       "      <td>37.802746</td>\n",
       "      <td>-122.413579</td>\n",
       "      <td>Customer</td>\n",
       "    </tr>\n",
       "  </tbody>\n",
       "</table>\n",
       "</div>"
      ],
      "text/plain": [
       "   duration_sec                start_time                  end_time  \\\n",
       "0         83118  2020-01-31 15:23:47.7330  2020-02-01 14:29:06.2630   \n",
       "1         68239  2020-01-31 15:40:31.6160  2020-02-01 10:37:51.0000   \n",
       "2         55407  2020-01-31 17:48:16.6350  2020-02-01 09:11:44.3170   \n",
       "3         54929  2020-01-31 17:53:03.4130  2020-02-01 09:08:32.6340   \n",
       "4         55700  2020-01-31 17:12:33.4600  2020-02-01 08:40:53.6460   \n",
       "\n",
       "   start_station_id  start_station_latitude  start_station_longitude  \\\n",
       "0             400.0               37.804272              -122.433537   \n",
       "1              99.0               37.767037              -122.415442   \n",
       "2             197.0               37.808848              -122.249680   \n",
       "3             197.0               37.808848              -122.249680   \n",
       "4              12.0               37.796389              -122.394586   \n",
       "\n",
       "   end_station_id  end_station_latitude  end_station_longitude   user_type  \n",
       "0           400.0             37.804272            -122.433537    Customer  \n",
       "1            99.0             37.767037            -122.415442  Subscriber  \n",
       "2           197.0             37.808848            -122.249680    Customer  \n",
       "3           197.0             37.808848            -122.249680    Customer  \n",
       "4           371.0             37.802746            -122.413579    Customer  "
      ]
     },
     "execution_count": 6,
     "metadata": {},
     "output_type": "execute_result"
    }
   ],
   "source": [
    "# drop unneeded columns from dataset\n",
    "\n",
    "bike_df.drop(['Unnamed: 0', 'rental_access_method', 'start_station_name','end_station_name','bike_id'], axis=1, inplace=True)\n",
    "bike_df.head()"
   ]
  },
  {
   "cell_type": "code",
   "execution_count": 7,
   "metadata": {
    "slideshow": {
     "slide_type": "skip"
    }
   },
   "outputs": [],
   "source": [
    "#create new column that takes duration second into minutes for easier understanding\n",
    "bike_df['duration_min'] = bike_df['duration_sec'].div(60).astype(int)"
   ]
  },
  {
   "cell_type": "code",
   "execution_count": 8,
   "metadata": {
    "slideshow": {
     "slide_type": "skip"
    }
   },
   "outputs": [],
   "source": [
    "# Break out times into day & month for graphing later \n",
    "bike_df['start_month'] = pd.DatetimeIndex(bike_df['start_time']).month\n",
    "bike_df['start_day'] = pd.DatetimeIndex(bike_df['start_time']).day\n",
    "bike_df['end_month'] = pd.DatetimeIndex(bike_df['end_time']).month\n",
    "bike_df['end_day'] = pd.DatetimeIndex(bike_df['end_time']).day\n",
    "bike_df['start_year'] = pd.DatetimeIndex(bike_df['start_time']).year\n",
    "bike_df['end_year'] = pd.DatetimeIndex(bike_df['end_time']).year"
   ]
  },
  {
   "cell_type": "code",
   "execution_count": 9,
   "metadata": {
    "slideshow": {
     "slide_type": "skip"
    }
   },
   "outputs": [
    {
     "data": {
      "text/html": [
       "<div>\n",
       "<style scoped>\n",
       "    .dataframe tbody tr th:only-of-type {\n",
       "        vertical-align: middle;\n",
       "    }\n",
       "\n",
       "    .dataframe tbody tr th {\n",
       "        vertical-align: top;\n",
       "    }\n",
       "\n",
       "    .dataframe thead th {\n",
       "        text-align: right;\n",
       "    }\n",
       "</style>\n",
       "<table border=\"1\" class=\"dataframe\">\n",
       "  <thead>\n",
       "    <tr style=\"text-align: right;\">\n",
       "      <th></th>\n",
       "      <th>duration_sec</th>\n",
       "      <th>start_time</th>\n",
       "      <th>end_time</th>\n",
       "      <th>start_station_id</th>\n",
       "      <th>start_station_latitude</th>\n",
       "      <th>start_station_longitude</th>\n",
       "      <th>end_station_id</th>\n",
       "      <th>end_station_latitude</th>\n",
       "      <th>end_station_longitude</th>\n",
       "      <th>user_type</th>\n",
       "      <th>duration_min</th>\n",
       "      <th>start_month</th>\n",
       "      <th>start_day</th>\n",
       "      <th>end_month</th>\n",
       "      <th>end_day</th>\n",
       "      <th>start_year</th>\n",
       "      <th>end_year</th>\n",
       "      <th>start_date</th>\n",
       "      <th>end_date</th>\n",
       "    </tr>\n",
       "  </thead>\n",
       "  <tbody>\n",
       "    <tr>\n",
       "      <th>0</th>\n",
       "      <td>83118</td>\n",
       "      <td>2020-01-31 15:23:47.7330</td>\n",
       "      <td>2020-02-01 14:29:06.2630</td>\n",
       "      <td>400.0</td>\n",
       "      <td>37.804272</td>\n",
       "      <td>-122.433537</td>\n",
       "      <td>400.0</td>\n",
       "      <td>37.804272</td>\n",
       "      <td>-122.433537</td>\n",
       "      <td>Customer</td>\n",
       "      <td>1385</td>\n",
       "      <td>1</td>\n",
       "      <td>31</td>\n",
       "      <td>2</td>\n",
       "      <td>1</td>\n",
       "      <td>2020</td>\n",
       "      <td>2020</td>\n",
       "      <td>2020-01-31</td>\n",
       "      <td>2020-02-01</td>\n",
       "    </tr>\n",
       "    <tr>\n",
       "      <th>1</th>\n",
       "      <td>68239</td>\n",
       "      <td>2020-01-31 15:40:31.6160</td>\n",
       "      <td>2020-02-01 10:37:51.0000</td>\n",
       "      <td>99.0</td>\n",
       "      <td>37.767037</td>\n",
       "      <td>-122.415442</td>\n",
       "      <td>99.0</td>\n",
       "      <td>37.767037</td>\n",
       "      <td>-122.415442</td>\n",
       "      <td>Subscriber</td>\n",
       "      <td>1137</td>\n",
       "      <td>1</td>\n",
       "      <td>31</td>\n",
       "      <td>2</td>\n",
       "      <td>1</td>\n",
       "      <td>2020</td>\n",
       "      <td>2020</td>\n",
       "      <td>2020-01-31</td>\n",
       "      <td>2020-02-01</td>\n",
       "    </tr>\n",
       "    <tr>\n",
       "      <th>2</th>\n",
       "      <td>55407</td>\n",
       "      <td>2020-01-31 17:48:16.6350</td>\n",
       "      <td>2020-02-01 09:11:44.3170</td>\n",
       "      <td>197.0</td>\n",
       "      <td>37.808848</td>\n",
       "      <td>-122.249680</td>\n",
       "      <td>197.0</td>\n",
       "      <td>37.808848</td>\n",
       "      <td>-122.249680</td>\n",
       "      <td>Customer</td>\n",
       "      <td>923</td>\n",
       "      <td>1</td>\n",
       "      <td>31</td>\n",
       "      <td>2</td>\n",
       "      <td>1</td>\n",
       "      <td>2020</td>\n",
       "      <td>2020</td>\n",
       "      <td>2020-01-31</td>\n",
       "      <td>2020-02-01</td>\n",
       "    </tr>\n",
       "    <tr>\n",
       "      <th>3</th>\n",
       "      <td>54929</td>\n",
       "      <td>2020-01-31 17:53:03.4130</td>\n",
       "      <td>2020-02-01 09:08:32.6340</td>\n",
       "      <td>197.0</td>\n",
       "      <td>37.808848</td>\n",
       "      <td>-122.249680</td>\n",
       "      <td>197.0</td>\n",
       "      <td>37.808848</td>\n",
       "      <td>-122.249680</td>\n",
       "      <td>Customer</td>\n",
       "      <td>915</td>\n",
       "      <td>1</td>\n",
       "      <td>31</td>\n",
       "      <td>2</td>\n",
       "      <td>1</td>\n",
       "      <td>2020</td>\n",
       "      <td>2020</td>\n",
       "      <td>2020-01-31</td>\n",
       "      <td>2020-02-01</td>\n",
       "    </tr>\n",
       "    <tr>\n",
       "      <th>4</th>\n",
       "      <td>55700</td>\n",
       "      <td>2020-01-31 17:12:33.4600</td>\n",
       "      <td>2020-02-01 08:40:53.6460</td>\n",
       "      <td>12.0</td>\n",
       "      <td>37.796389</td>\n",
       "      <td>-122.394586</td>\n",
       "      <td>371.0</td>\n",
       "      <td>37.802746</td>\n",
       "      <td>-122.413579</td>\n",
       "      <td>Customer</td>\n",
       "      <td>928</td>\n",
       "      <td>1</td>\n",
       "      <td>31</td>\n",
       "      <td>2</td>\n",
       "      <td>1</td>\n",
       "      <td>2020</td>\n",
       "      <td>2020</td>\n",
       "      <td>2020-01-31</td>\n",
       "      <td>2020-02-01</td>\n",
       "    </tr>\n",
       "  </tbody>\n",
       "</table>\n",
       "</div>"
      ],
      "text/plain": [
       "   duration_sec                start_time                  end_time  \\\n",
       "0         83118  2020-01-31 15:23:47.7330  2020-02-01 14:29:06.2630   \n",
       "1         68239  2020-01-31 15:40:31.6160  2020-02-01 10:37:51.0000   \n",
       "2         55407  2020-01-31 17:48:16.6350  2020-02-01 09:11:44.3170   \n",
       "3         54929  2020-01-31 17:53:03.4130  2020-02-01 09:08:32.6340   \n",
       "4         55700  2020-01-31 17:12:33.4600  2020-02-01 08:40:53.6460   \n",
       "\n",
       "   start_station_id  start_station_latitude  start_station_longitude  \\\n",
       "0             400.0               37.804272              -122.433537   \n",
       "1              99.0               37.767037              -122.415442   \n",
       "2             197.0               37.808848              -122.249680   \n",
       "3             197.0               37.808848              -122.249680   \n",
       "4              12.0               37.796389              -122.394586   \n",
       "\n",
       "   end_station_id  end_station_latitude  end_station_longitude   user_type  \\\n",
       "0           400.0             37.804272            -122.433537    Customer   \n",
       "1            99.0             37.767037            -122.415442  Subscriber   \n",
       "2           197.0             37.808848            -122.249680    Customer   \n",
       "3           197.0             37.808848            -122.249680    Customer   \n",
       "4           371.0             37.802746            -122.413579    Customer   \n",
       "\n",
       "   duration_min  start_month  start_day  end_month  end_day  start_year  \\\n",
       "0          1385            1         31          2        1        2020   \n",
       "1          1137            1         31          2        1        2020   \n",
       "2           923            1         31          2        1        2020   \n",
       "3           915            1         31          2        1        2020   \n",
       "4           928            1         31          2        1        2020   \n",
       "\n",
       "   end_year  start_date    end_date  \n",
       "0      2020  2020-01-31  2020-02-01  \n",
       "1      2020  2020-01-31  2020-02-01  \n",
       "2      2020  2020-01-31  2020-02-01  \n",
       "3      2020  2020-01-31  2020-02-01  \n",
       "4      2020  2020-01-31  2020-02-01  "
      ]
     },
     "execution_count": 9,
     "metadata": {},
     "output_type": "execute_result"
    }
   ],
   "source": [
    "# Create new column that has just the date the bike was rented\n",
    "bike_df['start_date'] = bike_df.start_time.str[:10]\n",
    "bike_df['end_date'] = bike_df.end_time.str[:10]\n",
    "bike_df.head()"
   ]
  },
  {
   "cell_type": "code",
   "execution_count": 10,
   "metadata": {
    "slideshow": {
     "slide_type": "skip"
    }
   },
   "outputs": [
    {
     "name": "stdout",
     "output_type": "stream",
     "text": [
      "<class 'pandas.core.frame.DataFrame'>\n",
      "RangeIndex: 905007 entries, 0 to 905006\n",
      "Data columns (total 19 columns):\n",
      "duration_sec               905007 non-null int64\n",
      "start_time                 905007 non-null object\n",
      "end_time                   905007 non-null object\n",
      "start_station_id           418705 non-null float64\n",
      "start_station_latitude     905007 non-null float64\n",
      "start_station_longitude    905007 non-null float64\n",
      "end_station_id             419225 non-null float64\n",
      "end_station_latitude       905007 non-null float64\n",
      "end_station_longitude      905007 non-null float64\n",
      "user_type                  905007 non-null object\n",
      "duration_min               905007 non-null int64\n",
      "start_month                905007 non-null int64\n",
      "start_day                  905007 non-null int64\n",
      "end_month                  905007 non-null int64\n",
      "end_day                    905007 non-null int64\n",
      "start_year                 905007 non-null int64\n",
      "end_year                   905007 non-null int64\n",
      "start_date                 905007 non-null datetime64[ns]\n",
      "end_date                   905007 non-null datetime64[ns]\n",
      "dtypes: datetime64[ns](2), float64(6), int64(8), object(3)\n",
      "memory usage: 131.2+ MB\n"
     ]
    }
   ],
   "source": [
    "#convert the columns to a datetime format\n",
    "bike_df['start_date']= pd.to_datetime(bike_df['start_date']) \n",
    "bike_df['end_date']= pd.to_datetime(bike_df['end_date']) \n",
    "bike_df.info()"
   ]
  },
  {
   "cell_type": "markdown",
   "metadata": {
    "slideshow": {
     "slide_type": "skip"
    }
   },
   "source": [
    "# Step 3: Visualiztion of Data"
   ]
  },
  {
   "cell_type": "code",
   "execution_count": 27,
   "metadata": {
    "slideshow": {
     "slide_type": "slide"
    }
   },
   "outputs": [
    {
     "data": {
      "image/png": "[encoded data removed]",
      "text/plain": [
       "<Figure size 432x288 with 1 Axes>"
      ]
     },
     "metadata": {},
     "output_type": "display_data"
    }
   ],
   "source": [
    "# Number of bike rentals by month (univariate plot)\n",
    "color = sns.color_palette()[0]\n",
    "sns.countplot(data=bike_df, x='start_month', color=color)\n",
    "plt.title ('Number of bikes rented by Month in 2020')\n",
    "plt.ylabel ('Number of bike rides')\n",
    "plt.xlabel ('Months Jan 2020 - March 2020');"
   ]
  },
  {
   "cell_type": "markdown",
   "metadata": {
    "slideshow": {
     "slide_type": "slide"
    }
   },
   "source": [
    "As shown in this graph, bike rides per month peaked in February and dipped signficantly low in March. This dip could be attributed to the spread of Covid-19. Many people started social distancing and traveling less by mid-March in the US.  "
   ]
  },
  {
   "cell_type": "code",
   "execution_count": 29,
   "metadata": {
    "slideshow": {
     "slide_type": "slide"
    }
   },
   "outputs": [
    {
     "data": {
      "image/png": "[encoded data removed]",
      "text/plain": [
       "<Figure size 432x288 with 1 Axes>"
      ]
     },
     "metadata": {},
     "output_type": "display_data"
    }
   ],
   "source": [
    "# Duration of bike rides by each User Type\n",
    "sns.barplot(x=\"start_month\", y=\"duration_min\", hue=\"user_type\", data=bike_df, ci=False)\n",
    "plt.title('Average Duration of bike rides each month by User Type')\n",
    "plt.xlabel('Months Jan 2020 - March 2020')\n",
    "plt.ylabel('Duration in minutes');"
   ]
  },
  {
   "attachments": {},
   "cell_type": "markdown",
   "metadata": {
    "slideshow": {
     "slide_type": "slide"
    }
   },
   "source": [
    "This second graph shows the average duration of each bike ride between customers and subscribers. The data is again broken out by month to see if there is any shift in trends. The trend stays the same over each month, where customers that rent bikes tend to rent it for a longer time than subscribers.\n",
    "\n",
    "The bar plot here is different than the bar plot above as it gives us a deeper insight on what types of customers rent bikes for a longer period of times. This is helpful information to know. Maybe, the subscribers who regularly rent the bikes use it to commute to work or to run errands and thus use it for a shorter amount of time."
   ]
  },
  {
   "cell_type": "code",
   "execution_count": 28,
   "metadata": {
    "slideshow": {
     "slide_type": "slide"
    }
   },
   "outputs": [
    {
     "data": {
      "text/plain": [
       "(0, 1600)"
      ]
     },
     "execution_count": 28,
     "metadata": {},
     "output_type": "execute_result"
    },
    {
     "data": {
      "image/png": "[encoded data removed]",
      "text/plain": [
       "<Figure size 360x360 with 1 Axes>"
      ]
     },
     "metadata": {},
     "output_type": "display_data"
    }
   ],
   "source": [
    "#categorical scattorplot of the months when bikes were rented vs. the duration it was rented for (multivariate plot)\n",
    "\n",
    "sns.catplot(x=\"start_month\", y=\"duration_min\", data=bike_df, alpha=0.5)\n",
    "plt.title('Duration in minutes by Month')\n",
    "plt.xlabel('Months Jan 2020 - March 2020')\n",
    "plt.ylabel('Duration in minutes')\n",
    "plt.ylim(0,1600);"
   ]
  },
  {
   "attachments": {},
   "cell_type": "markdown",
   "metadata": {
    "slideshow": {
     "slide_type": "slide"
    }
   },
   "source": [
    "This plot is another view into duration of bike rentals. Here, I am taking away the customer vs. subscriber factor and looking purely at which months had bike rentals for a longer period of time. \n",
    "\n",
    "This is another way to build on top of our first bar chart. This illustrates that even though we had the most amount of bike rentals in Feb, we still had bike rentals in January and March that lasted quite some time. The length of duration in each month is about the same, with a little more density in shorter bike rides in Feb"
   ]
  },
  {
   "cell_type": "markdown",
   "metadata": {
    "slideshow": {
     "slide_type": "skip"
    }
   },
   "source": [
    "# Adding distance between latitude & longitude"
   ]
  },
  {
   "cell_type": "code",
   "execution_count": 31,
   "metadata": {
    "slideshow": {
     "slide_type": "skip"
    }
   },
   "outputs": [],
   "source": [
    "bike_df_coordinates = bike_df[['start_station_latitude', 'start_station_longitude','end_station_latitude', 'end_station_longitude']]"
   ]
  },
  {
   "cell_type": "code",
   "execution_count": 32,
   "metadata": {
    "slideshow": {
     "slide_type": "skip"
    }
   },
   "outputs": [],
   "source": [
    "#used following link as a source: https://kanoki.org/2019/12/27/how-to-calculate-distance-in-python-and-pandas-using-scipy-spatial-and-distance-functions/ \n",
    "def haversine_vectorize(lon1, lat1, lon2, lat2):\n",
    " \n",
    "    lon1, lat1, lon2, lat2 = map(np.radians, [lon1, lat1, lon2, lat2])\n",
    " \n",
    "    newlon = lon2 - lon1\n",
    "    newlat = lat2 - lat1\n",
    " \n",
    "    haver_formula = np.sin(newlat/2.0)**2 + np.cos(lat1) * np.cos(lat2) * np.sin(newlon/2.0)**2\n",
    " \n",
    "    dist = 2 * np.arcsin(np.sqrt(haver_formula ))\n",
    "    km = 6367 * dist #6367 for distance in KM for miles use 3958\n",
    "    return km"
   ]
  },
  {
   "cell_type": "code",
   "execution_count": 33,
   "metadata": {
    "slideshow": {
     "slide_type": "skip"
    }
   },
   "outputs": [],
   "source": [
    "# Calculate distance of bike rides in KM \n",
    "bike_df['KM distance'] = haversine_vectorize(bike_df_coordinates['start_station_longitude'],bike_df_coordinates['start_station_latitude'],bike_df_coordinates['end_station_longitude'],\n",
    "                   bike_df_coordinates['end_station_latitude'])"
   ]
  },
  {
   "cell_type": "code",
   "execution_count": 22,
   "metadata": {
    "slideshow": {
     "slide_type": "skip"
    }
   },
   "outputs": [],
   "source": [
    "### Filter to look at distances where there were no zero values \n",
    "### in the latitude/longittude as that skewed the distance calculations"
   ]
  },
  {
   "cell_type": "code",
   "execution_count": 34,
   "metadata": {
    "scrolled": true,
    "slideshow": {
     "slide_type": "skip"
    }
   },
   "outputs": [
    {
     "data": {
      "text/html": [
       "<div>\n",
       "<style scoped>\n",
       "    .dataframe tbody tr th:only-of-type {\n",
       "        vertical-align: middle;\n",
       "    }\n",
       "\n",
       "    .dataframe tbody tr th {\n",
       "        vertical-align: top;\n",
       "    }\n",
       "\n",
       "    .dataframe thead th {\n",
       "        text-align: right;\n",
       "    }\n",
       "</style>\n",
       "<table border=\"1\" class=\"dataframe\">\n",
       "  <thead>\n",
       "    <tr style=\"text-align: right;\">\n",
       "      <th></th>\n",
       "      <th>duration_sec</th>\n",
       "      <th>start_time</th>\n",
       "      <th>end_time</th>\n",
       "      <th>start_station_id</th>\n",
       "      <th>start_station_latitude</th>\n",
       "      <th>start_station_longitude</th>\n",
       "      <th>end_station_id</th>\n",
       "      <th>end_station_latitude</th>\n",
       "      <th>end_station_longitude</th>\n",
       "      <th>user_type</th>\n",
       "      <th>duration_min</th>\n",
       "      <th>start_month</th>\n",
       "      <th>start_day</th>\n",
       "      <th>end_month</th>\n",
       "      <th>end_day</th>\n",
       "      <th>start_year</th>\n",
       "      <th>end_year</th>\n",
       "      <th>start_date</th>\n",
       "      <th>end_date</th>\n",
       "      <th>KM distance</th>\n",
       "    </tr>\n",
       "  </thead>\n",
       "  <tbody>\n",
       "    <tr>\n",
       "      <th>4</th>\n",
       "      <td>55700</td>\n",
       "      <td>2020-01-31 17:12:33.4600</td>\n",
       "      <td>2020-02-01 08:40:53.6460</td>\n",
       "      <td>12.0</td>\n",
       "      <td>37.796389</td>\n",
       "      <td>-122.394586</td>\n",
       "      <td>371.0</td>\n",
       "      <td>37.802746</td>\n",
       "      <td>-122.413579</td>\n",
       "      <td>Customer</td>\n",
       "      <td>928</td>\n",
       "      <td>1</td>\n",
       "      <td>31</td>\n",
       "      <td>2</td>\n",
       "      <td>1</td>\n",
       "      <td>2020</td>\n",
       "      <td>2020</td>\n",
       "      <td>2020-01-31</td>\n",
       "      <td>2020-02-01</td>\n",
       "      <td>1.811157</td>\n",
       "    </tr>\n",
       "    <tr>\n",
       "      <th>5</th>\n",
       "      <td>11333</td>\n",
       "      <td>2020-01-31 22:48:22.6390</td>\n",
       "      <td>2020-02-01 01:57:15.7160</td>\n",
       "      <td>60.0</td>\n",
       "      <td>37.774520</td>\n",
       "      <td>-122.409449</td>\n",
       "      <td>75.0</td>\n",
       "      <td>37.773793</td>\n",
       "      <td>-122.421239</td>\n",
       "      <td>Customer</td>\n",
       "      <td>188</td>\n",
       "      <td>1</td>\n",
       "      <td>31</td>\n",
       "      <td>2</td>\n",
       "      <td>1</td>\n",
       "      <td>2020</td>\n",
       "      <td>2020</td>\n",
       "      <td>2020-01-31</td>\n",
       "      <td>2020-02-01</td>\n",
       "      <td>1.038713</td>\n",
       "    </tr>\n",
       "    <tr>\n",
       "      <th>6</th>\n",
       "      <td>11341</td>\n",
       "      <td>2020-01-31 22:48:12.9890</td>\n",
       "      <td>2020-02-01 01:57:14.1650</td>\n",
       "      <td>60.0</td>\n",
       "      <td>37.774520</td>\n",
       "      <td>-122.409449</td>\n",
       "      <td>75.0</td>\n",
       "      <td>37.773793</td>\n",
       "      <td>-122.421239</td>\n",
       "      <td>Customer</td>\n",
       "      <td>189</td>\n",
       "      <td>1</td>\n",
       "      <td>31</td>\n",
       "      <td>2</td>\n",
       "      <td>1</td>\n",
       "      <td>2020</td>\n",
       "      <td>2020</td>\n",
       "      <td>2020-01-31</td>\n",
       "      <td>2020-02-01</td>\n",
       "      <td>1.038713</td>\n",
       "    </tr>\n",
       "    <tr>\n",
       "      <th>9</th>\n",
       "      <td>1980</td>\n",
       "      <td>2020-01-31 23:49:09.2300</td>\n",
       "      <td>2020-02-01 00:22:09.7540</td>\n",
       "      <td>238.0</td>\n",
       "      <td>37.871719</td>\n",
       "      <td>-122.273068</td>\n",
       "      <td>198.0</td>\n",
       "      <td>37.807813</td>\n",
       "      <td>-122.264496</td>\n",
       "      <td>Customer</td>\n",
       "      <td>33</td>\n",
       "      <td>1</td>\n",
       "      <td>31</td>\n",
       "      <td>2</td>\n",
       "      <td>1</td>\n",
       "      <td>2020</td>\n",
       "      <td>2020</td>\n",
       "      <td>2020-01-31</td>\n",
       "      <td>2020-02-01</td>\n",
       "      <td>7.141293</td>\n",
       "    </tr>\n",
       "    <tr>\n",
       "      <th>10</th>\n",
       "      <td>1969</td>\n",
       "      <td>2020-01-31 23:49:03.9720</td>\n",
       "      <td>2020-02-01 00:21:53.5730</td>\n",
       "      <td>238.0</td>\n",
       "      <td>37.871719</td>\n",
       "      <td>-122.273068</td>\n",
       "      <td>198.0</td>\n",
       "      <td>37.807813</td>\n",
       "      <td>-122.264496</td>\n",
       "      <td>Customer</td>\n",
       "      <td>32</td>\n",
       "      <td>1</td>\n",
       "      <td>31</td>\n",
       "      <td>2</td>\n",
       "      <td>1</td>\n",
       "      <td>2020</td>\n",
       "      <td>2020</td>\n",
       "      <td>2020-01-31</td>\n",
       "      <td>2020-02-01</td>\n",
       "      <td>7.141293</td>\n",
       "    </tr>\n",
       "  </tbody>\n",
       "</table>\n",
       "</div>"
      ],
      "text/plain": [
       "    duration_sec                start_time                  end_time  \\\n",
       "4          55700  2020-01-31 17:12:33.4600  2020-02-01 08:40:53.6460   \n",
       "5          11333  2020-01-31 22:48:22.6390  2020-02-01 01:57:15.7160   \n",
       "6          11341  2020-01-31 22:48:12.9890  2020-02-01 01:57:14.1650   \n",
       "9           1980  2020-01-31 23:49:09.2300  2020-02-01 00:22:09.7540   \n",
       "10          1969  2020-01-31 23:49:03.9720  2020-02-01 00:21:53.5730   \n",
       "\n",
       "    start_station_id  start_station_latitude  start_station_longitude  \\\n",
       "4               12.0               37.796389              -122.394586   \n",
       "5               60.0               37.774520              -122.409449   \n",
       "6               60.0               37.774520              -122.409449   \n",
       "9              238.0               37.871719              -122.273068   \n",
       "10             238.0               37.871719              -122.273068   \n",
       "\n",
       "    end_station_id  end_station_latitude  end_station_longitude user_type  \\\n",
       "4            371.0             37.802746            -122.413579  Customer   \n",
       "5             75.0             37.773793            -122.421239  Customer   \n",
       "6             75.0             37.773793            -122.421239  Customer   \n",
       "9            198.0             37.807813            -122.264496  Customer   \n",
       "10           198.0             37.807813            -122.264496  Customer   \n",
       "\n",
       "    duration_min  start_month  start_day  end_month  end_day  start_year  \\\n",
       "4            928            1         31          2        1        2020   \n",
       "5            188            1         31          2        1        2020   \n",
       "6            189            1         31          2        1        2020   \n",
       "9             33            1         31          2        1        2020   \n",
       "10            32            1         31          2        1        2020   \n",
       "\n",
       "    end_year start_date   end_date  KM distance  \n",
       "4       2020 2020-01-31 2020-02-01     1.811157  \n",
       "5       2020 2020-01-31 2020-02-01     1.038713  \n",
       "6       2020 2020-01-31 2020-02-01     1.038713  \n",
       "9       2020 2020-01-31 2020-02-01     7.141293  \n",
       "10      2020 2020-01-31 2020-02-01     7.141293  "
      ]
     },
     "execution_count": 34,
     "metadata": {},
     "output_type": "execute_result"
    }
   ],
   "source": [
    "bike_dist_df = bike_df[(bike_df['KM distance'] >1)]\n",
    "bike_dist_df2 = bike_dist_df[(bike_dist_df['end_station_latitude'] != 0.000000) & (bike_dist_df['end_station_longitude'] != 0.000000)]\n",
    "bike_dist_df2 = bike_dist_df2[(bike_dist_df2['start_station_latitude'] != 0.000000) & (bike_dist_df2['start_station_longitude'] != 0.000000)]\n",
    "bike_dist_df2"
   ]
  },
  {
   "cell_type": "code",
   "execution_count": 37,
   "metadata": {
    "slideshow": {
     "slide_type": "slide"
    }
   },
   "outputs": [
    {
     "data": {
      "image/png": "[encoded data removed]",
      "text/plain": [
       "<Figure size 861.475x432 with 1 Axes>"
      ]
     },
     "metadata": {},
     "output_type": "display_data"
    }
   ],
   "source": [
    "g = sns.FacetGrid(data=bike_dist_df2, hue='user_type', size=6, aspect=1.8, palette = 'viridis_r')\n",
    "\n",
    "g.map(sns.regplot,'duration_min', 'KM distance', fit_reg = False);\n",
    "g.add_legend()\n",
    "g.fig.suptitle('Distance traveled based on rental minutes, by each user type')\n",
    "plt.xlabel('Duration in minutes');"
   ]
  },
  {
   "cell_type": "markdown",
   "metadata": {
    "slideshow": {
     "slide_type": "slide"
    }
   },
   "source": [
    "This scatterplot bring it all home. We see clearly here that over the three month average, most subscribers who rented the bike usually rented it for 350 minutes or less. Whereas, customers rented the bike for a variety amount of time and traveled a vast mount of distances. "
   ]
  },
  {
   "cell_type": "markdown",
   "metadata": {
    "slideshow": {
     "slide_type": "slide"
    }
   },
   "source": [
    "# Explanatory Data Analysis Summary\n"
   ]
  },
  {
   "attachments": {},
   "cell_type": "markdown",
   "metadata": {
    "slideshow": {
     "slide_type": "slide"
    }
   },
   "source": [
    "There were some interesting findings in this dataset. Firstly, we saw a clear drop off of bike rides during March 2020, primarily due to the spread of Covid-19. Since people started social distancing and quarantining at home, bike rentals went significantly down. This probably skewed the data as the number of bike rides were the highest in February. \n",
    "\n",
    "Secondly, when adding on a layer of customer vs. subscriber analysis, I saw that customers took longer bike rides on average. Subscribers tend to take shorter bike rides. Lastly, I used the latitude and longitude data to calculate approximate distance traveled during these bike rides. \n",
    "\n",
    "Interestingly enough, there was not a correlation between distance traveled and duration of time traveled. Many bike rides were probably leisurely taken, thus not ridden really far. A lot of subscribers tend to take the bikes a smaller distance while customers take bike rides both close and far distances."
   ]
  },
  {
   "cell_type": "code",
   "execution_count": null,
   "metadata": {},
   "outputs": [],
   "source": []
  }
 ],
 "metadata": {
  "celltoolbar": "Slideshow",
  "kernelspec": {
   "display_name": "Python 3",
   "language": "python",
   "name": "python3"
  },
  "language_info": {
   "codemirror_mode": {
    "name": "ipython",
    "version": 3
   },
   "file_extension": ".py",
   "mimetype": "text/x-python",
   "name": "python",
   "nbconvert_exporter": "python",
   "pygments_lexer": "ipython3",
   "version": "3.7.3"
  }
 },
 "nbformat": 4,
 "nbformat_minor": 2
}
